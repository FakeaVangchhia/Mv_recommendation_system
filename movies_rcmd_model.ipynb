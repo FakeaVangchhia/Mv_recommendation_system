{
 "cells": [
  {
   "cell_type": "code",
   "execution_count": 1,
   "id": "c82584d7-2a81-41ec-9dba-094f332516d5",
   "metadata": {},
   "outputs": [],
   "source": [
    "import numpy as np\n",
    "import pandas as pd\n",
    "from sklearn.feature_extraction.text import CountVectorizer\n",
    "from sklearn.metrics.pairwise import cosine_similarity\n",
    "import nltk\n",
    "from nltk.stem.porter import PorterStemmer\n",
    "import ast"
   ]
  },
  {
   "cell_type": "code",
   "execution_count": 17,
   "id": "8699d4d5-fbdf-45c3-a942-403073e2b010",
   "metadata": {},
   "outputs": [],
   "source": [
    "# Function to load the data\n",
    "def load_data(file_path):\n",
    "    return pd.read_csv(file_path)"
   ]
  },
  {
   "cell_type": "code",
   "execution_count": 18,
   "id": "ea7d6da2-b527-4a50-8abd-9b74c1d2a40c",
   "metadata": {},
   "outputs": [],
   "source": [
    "# funciton to clean all the data\n",
    "def clean_data(movies_df, credits_df):\n",
    "    movies_df = movies_df.merge(credits_df, on='title')\n",
    "    movies_df = movies_df[['movie_id', 'title', 'overview', 'genres', 'keywords', 'cast', 'crew']]\n",
    "    movies_df.dropna(inplace=True)\n",
    "    return movies_df"
   ]
  },
  {
   "cell_type": "code",
   "execution_count": 19,
   "id": "898ba700-5709-41ad-8a41-c7286b380706",
   "metadata": {},
   "outputs": [],
   "source": [
    "# we convert the represting string of genres and keywords to a list of names\n",
    "def convert(obj):\n",
    "    return [i['name'] for i in ast.literal_eval(obj)]"
   ]
  },
  {
   "cell_type": "code",
   "execution_count": 20,
   "id": "17b7aea9-5b8e-4174-a83c-45d845f42c13",
   "metadata": {},
   "outputs": [],
   "source": [
    "# we also have to covert represent cast to a list of actor names\n",
    "def convert3(obj):\n",
    "    counter = 0\n",
    "    return [i['name'] for i in ast.literal_eval(obj) if (counter := counter + 1) <= 3]"
   ]
  },
  {
   "cell_type": "code",
   "execution_count": 23,
   "id": "eae4c2c1-f33a-4310-9a9f-8d6e697b9630",
   "metadata": {},
   "outputs": [],
   "source": [
    "# function to extract the director's names\n",
    "def fetch_director(obj):\n",
    "    return [i['name'] for i in ast.literal_eval(obj) if i['job'] == 'Director'][:1]"
   ]
  },
  {
   "cell_type": "code",
   "execution_count": 22,
   "id": "fca40d4a-475f-43db-9a8d-82592aabb249",
   "metadata": {},
   "outputs": [],
   "source": [
    "# stemming the text using Porter Stemmer\n",
    "def stem(text):\n",
    "    ps = PorterStemmer()\n",
    "    return \" \".join([ps.stem(i) for i in text.split()])"
   ]
  },
  {
   "cell_type": "code",
   "execution_count": 25,
   "id": "c1a41f03-9758-4e7d-8c04-ad5ae3c110ad",
   "metadata": {},
   "outputs": [],
   "source": [
    "# finally, we have the recommendation system function\n",
    "def recommend(movie, new_df, vectors, similarity):\n",
    "    try:\n",
    "        movie_index = new_df[new_df['title'] == movie].index[0]\n",
    "    except IndexError:\n",
    "        return []\n",
    "\n",
    "    distances = similarity[movie_index]\n",
    "    movies_list = sorted(list(enumerate(distances)), reverse=True, key=lambda x: x[1])[1:6]\n",
    "\n",
    "    recommended_movies = [new_df.iloc[i[0]].title for i in movies_list]\n",
    "    return recommended_movies"
   ]
  },
  {
   "cell_type": "code",
   "execution_count": 9,
   "id": "884cbbff-1286-427f-9a88-e70d5bfcddd9",
   "metadata": {},
   "outputs": [],
   "source": [
    "# Here are the main scripts \n",
    "movies_df = load_data('movies.csv')\n",
    "credits_df = load_data('credits.csv')\n",
    "movies_df = clean_data(movies_df, credits_df)"
   ]
  },
  {
   "cell_type": "code",
   "execution_count": 10,
   "id": "572e5e00-037e-41e8-ae26-4e07570c3ca6",
   "metadata": {},
   "outputs": [],
   "source": [
    "movies_df['genres'] = movies_df['genres'].apply(convert)\n",
    "movies_df['keywords'] = movies_df['keywords'].apply(convert)\n",
    "movies_df['cast'] = movies_df['cast'].apply(convert3)\n",
    "movies_df['crew'] = movies_df['crew'].apply(fetch_director)"
   ]
  },
  {
   "cell_type": "code",
   "execution_count": 11,
   "id": "65b427b2-0f9e-4fb1-b898-0327a7503698",
   "metadata": {},
   "outputs": [
    {
     "name": "stderr",
     "output_type": "stream",
     "text": [
      "C:\\Users\\fakaf\\AppData\\Local\\Temp\\ipykernel_9812\\2488072572.py:2: FutureWarning: DataFrame.applymap has been deprecated. Use DataFrame.map instead.\n",
      "  movies_df[['genres', 'keywords', 'cast', 'crew']] = movies_df[['genres', 'keywords', 'cast', 'crew']].applymap(lambda x: [i.replace(\" \", \"\") for i in x])\n"
     ]
    }
   ],
   "source": [
    "movies_df['overview'] = movies_df['overview'].apply(lambda x: x.split())\n",
    "movies_df[['genres', 'keywords', 'cast', 'crew']] = movies_df[['genres', 'keywords', 'cast', 'crew']].applymap(lambda x: [i.replace(\" \", \"\") for i in x])"
   ]
  },
  {
   "cell_type": "code",
   "execution_count": 12,
   "id": "53c9162d-a207-4086-9d1f-782bfba6cc21",
   "metadata": {},
   "outputs": [],
   "source": [
    "movies_df['tags'] = movies_df['overview'] + movies_df['genres'] + movies_df['keywords'] + movies_df['cast'] + movies_df['crew']"
   ]
  },
  {
   "cell_type": "code",
   "execution_count": 13,
   "id": "979ad8db-d43f-483b-b52f-20a8cda392c0",
   "metadata": {},
   "outputs": [
    {
     "name": "stderr",
     "output_type": "stream",
     "text": [
      "C:\\Users\\fakaf\\AppData\\Local\\Temp\\ipykernel_9812\\3463221387.py:2: SettingWithCopyWarning: \n",
      "A value is trying to be set on a copy of a slice from a DataFrame.\n",
      "Try using .loc[row_indexer,col_indexer] = value instead\n",
      "\n",
      "See the caveats in the documentation: https://pandas.pydata.org/pandas-docs/stable/user_guide/indexing.html#returning-a-view-versus-a-copy\n",
      "  new_df['tags'] = new_df['tags'].apply(lambda x: ' '.join(x))\n",
      "C:\\Users\\fakaf\\AppData\\Local\\Temp\\ipykernel_9812\\3463221387.py:3: SettingWithCopyWarning: \n",
      "A value is trying to be set on a copy of a slice from a DataFrame.\n",
      "Try using .loc[row_indexer,col_indexer] = value instead\n",
      "\n",
      "See the caveats in the documentation: https://pandas.pydata.org/pandas-docs/stable/user_guide/indexing.html#returning-a-view-versus-a-copy\n",
      "  new_df['tags'] = new_df['tags'].apply(lambda x: x.lower())\n"
     ]
    }
   ],
   "source": [
    "new_df = movies_df[['movie_id', 'title', 'tags']]\n",
    "new_df['tags'] = new_df['tags'].apply(lambda x: ' '.join(x))\n",
    "new_df['tags'] = new_df['tags'].apply(lambda x: x.lower())"
   ]
  },
  {
   "cell_type": "code",
   "execution_count": 14,
   "id": "caa82869-d1ef-437f-bcc5-003f05a3239c",
   "metadata": {},
   "outputs": [],
   "source": [
    "cv = CountVectorizer(max_features=5000, stop_words='english')\n",
    "vectors = cv.fit_transform(new_df['tags']).toarray()\n",
    "similarity = cosine_similarity(vectors)"
   ]
  },
  {
   "cell_type": "code",
   "execution_count": 15,
   "id": "6dbbe597-6ad0-4689-9726-2a754481167e",
   "metadata": {},
   "outputs": [
    {
     "name": "stderr",
     "output_type": "stream",
     "text": [
      "C:\\Users\\fakaf\\AppData\\Local\\Temp\\ipykernel_9812\\3213734980.py:1: SettingWithCopyWarning: \n",
      "A value is trying to be set on a copy of a slice from a DataFrame.\n",
      "Try using .loc[row_indexer,col_indexer] = value instead\n",
      "\n",
      "See the caveats in the documentation: https://pandas.pydata.org/pandas-docs/stable/user_guide/indexing.html#returning-a-view-versus-a-copy\n",
      "  new_df['tags'] = new_df['tags'].apply(stem)\n"
     ]
    }
   ],
   "source": [
    "new_df['tags'] = new_df['tags'].apply(stem)"
   ]
  },
  {
   "cell_type": "code",
   "execution_count": 34,
   "id": "c6a1e7cd-4631-4493-9416-db2d6a89b982",
   "metadata": {},
   "outputs": [
    {
     "name": "stdout",
     "output_type": "stream",
     "text": [
      "If you are watching 'The Ultimate Gift' I recommend you to watch: \n",
      "\n",
      "1 Stargate: The Ark of Truth\n",
      "2 The Helix... Loaded\n",
      "3 Star Wars: Episode III - Revenge of the Sith\n",
      "4 Tank Girl\n",
      "5 The Hitchhiker's Guide to the Galaxy\n"
     ]
    }
   ],
   "source": [
    "class MovieRecommendation:\n",
    "    def system(self, movieName):\n",
    "        recommended_movies = recommend(movieName, new_df, vectors, similarity)\n",
    "\n",
    "        if recommended_movies:\n",
    "            print(f\"If you are watching '{movieName}' I recommend you to watch: \\n\")\n",
    "            for sl_no, movie in enumerate(recommended_movies):\n",
    "                print(sl_no + 1, movie)\n",
    "        else:\n",
    "            print(f\"Sorry, '{movieName}' is not in the dataset. Unable to provide recommendations.\")\n",
    "\n",
    "# Here we can create an object and call the function from that obj, but first let's make some if else statement\n",
    "movie_name = 'The Ultimate Gift'\n",
    "if movie_name == '':\n",
    "    print(\"Please enter some movie name!\")\n",
    "else:\n",
    "    mrs = MovieRecommendation()\n",
    "    result = mrs.system(movie_name)\n",
    "    "
   ]
  },
  {
   "cell_type": "code",
   "execution_count": null,
   "id": "e867e4a4-a58a-4dcc-a833-52eae880af95",
   "metadata": {},
   "outputs": [],
   "source": []
  }
 ],
 "metadata": {
  "kernelspec": {
   "display_name": "Python 3 (ipykernel)",
   "language": "python",
   "name": "python3"
  },
  "language_info": {
   "codemirror_mode": {
    "name": "ipython",
    "version": 3
   },
   "file_extension": ".py",
   "mimetype": "text/x-python",
   "name": "python",
   "nbconvert_exporter": "python",
   "pygments_lexer": "ipython3",
   "version": "3.11.2"
  }
 },
 "nbformat": 4,
 "nbformat_minor": 5
}
